{
 "cells": [
  {
   "cell_type": "code",
   "execution_count": 1,
   "metadata": {},
   "outputs": [],
   "source": [
    "import numpy as np\n",
    "import scipy.stats as stats\n",
    "from statistics import mean\n",
    "import matplotlib.pyplot as plt\n",
    "import pandas as pd\n"
   ]
  },
  {
   "cell_type": "markdown",
   "metadata": {},
   "source": [
    "## Simulated datasets\n",
    "\n",
    "I will simulate 3 datasets and play around a bit to see minimal requirements.\n",
    "\n",
    "The minimum control value lies between 48 - 63 RLU/well.\n",
    "Maximum control value lies between 221 281 - 351 948 RLU/well.\n",
    "\n",
    "stdev of RLU values is dependent on the log(dil)"
   ]
  },
  {
   "cell_type": "code",
   "execution_count": 2,
   "metadata": {},
   "outputs": [
    {
     "name": "stdout",
     "output_type": "stream",
     "text": [
      "[2.         2.47712125 2.95424251 3.43136376 3.90848502 4.38560627\n",
      " 4.86272753 5.33984878]\n",
      "[61 54 59 61 52] [242955 340577 341898 322803 227267]\n",
      "[ 3433.54240456 13138.73872086 21129.03612453 27920.43086338\n",
      " 33826.20284755 39050.90915941 43735.51653288 47981.30150065]\n"
     ]
    }
   ],
   "source": [
    "#stdev = [4611, 11208, 14566, 34419, 38437, 36657, 47686, 42631]  #respective stdevs per dilution\n",
    "def stdevs(logdilfact):\n",
    "    return 45362*np.log(logdilfact) - 28009     #Relation between dilution and rlu signal\n",
    "\n",
    "#dils = [100, 300, 900, 2700, 8100, 24300, 72900, 218700] #Dilution factors\n",
    "startdil = 100  #first dilution factor\n",
    "dilutions = 8   #number of dilutions\n",
    "seriesfactor = 3    #dilution factors\n",
    "replicates = 3      #nr of replicates\n",
    "dils = [startdil]\n",
    "for i in range(dilutions-1):\n",
    "    dils.append(dils[i] * seriesfactor)\n",
    "\n",
    "logdil = np.log10(dils)\n",
    "stdev = stdevs(logdil)\n",
    "\n",
    "#choosenvalues ic50 and hillslope\n",
    "l_IC50 = [73, 3462, 7340]\n",
    "l_Hill = [-0.97, -1.01, -1.13]\n",
    "\n",
    "#generate random min and max values for 'plate'\n",
    "ctr_cellOnly = np.random.randint(48, 63, 5)\n",
    "ctr_Cellpp = np.random.randint(221281 , 351948, 5)\n",
    "\n",
    "print(logdil)\n",
    "print(ctr_cellOnly, ctr_Cellpp)\n",
    "print(stdev)\n"
   ]
  },
  {
   "cell_type": "code",
   "execution_count": 3,
   "metadata": {},
   "outputs": [
    {
     "name": "stdout",
     "output_type": "stream",
     "text": [
      "[ 1.14442383  4.43384141  7.14202205  9.44385424 11.44551908 13.21634784\n",
      " 14.8041189  16.24315829]\n",
      "[[42.42698371449516, 20.24707075205465, 8.042568566749441, 2.924881348837584, 1.0273253689129902, 0.35631562424725566, 0.12303899958095534, 0.0424214570971878], [97.28770074050496, 92.20317131393836, 79.5870037690545, 56.2442463006842, 29.76491166836868, 12.259137027177676, 4.403592296906239, 1.4959841753214815], [99.2266222731868, 97.37365401621751, 91.4630422732678, 75.58570559175784, 47.219533992534195, 20.541863312906614, 6.951280916843422, 2.113156905552975]]\n"
     ]
    }
   ],
   "source": [
    "#normalization of stdevs\n",
    "neutr_stdev = 100*(stdev - mean(ctr_cellOnly)) / (mean(ctr_Cellpp) - mean(ctr_cellOnly))\n",
    "print(neutr_stdev)\n",
    "\n",
    "#generate 'real y' based on choosen ic50, hill and the curve\n",
    "def neutr_curve(xvalues, ic50 , hill):\n",
    "    y = 100 / (1 + 10**((np.log10(ic50)-np.asarray(xvalues))*hill))\n",
    "    return y\n",
    "\n",
    "y1 = []\n",
    "y2 = []\n",
    "y3 = []\n",
    "real_y = [y1, y2, y3]\n",
    "\n",
    "for i in range(3):\n",
    "    values = 100 / (1 + 10**((np.log10(l_IC50[i])-np.asarray(logdil))*l_Hill[i]))\n",
    "    real_y[i] = values.tolist()\n",
    "\n",
    "print(real_y)\n"
   ]
  },
  {
   "cell_type": "code",
   "execution_count": 4,
   "metadata": {},
   "outputs": [],
   "source": [
    "###Generate some scatter with real y-vals as 'mean' and stdev from calculated and normalized list.append\n",
    "s_y1 = []\n",
    "s_y2 = []\n",
    "s_y3 = []\n",
    "sample_y = [s_y1, s_y2, s_y3]\n",
    "\n",
    "def generate_3points(lijst):\n",
    "    prrr = []\n",
    "    for i in range(len(lijst)):\n",
    "        measured_y = np.random.normal(lijst[i], neutr_stdev[i], replicates)\n",
    "        prrr.append(measured_y)\n",
    "    return prrr\n",
    "        \n",
    "for x in range(3):  \n",
    "    sample_y[x] = generate_3points(real_y[x])\n",
    "\n",
    "print(sample_y)"
   ]
  },
  {
   "cell_type": "code",
   "execution_count": null,
   "metadata": {},
   "outputs": [],
   "source": [
    ")\n"
   ]
  },
  {
   "cell_type": "code",
   "execution_count": 5,
   "metadata": {},
   "outputs": [
    {
     "name": "stdout",
     "output_type": "stream",
     "text": [
      "IC50 values:  [73, 3462, 7340]\n",
      "Hill Slopes:  [-0.97, -1.01, -1.13]\n"
     ]
    },
    {
     "data": {
      "text/plain": [
       "<matplotlib.lines.Line2D at 0x1fcfa0e0730>"
      ]
     },
     "execution_count": 5,
     "metadata": {},
     "output_type": "execute_result"
    },
    {
     "data": {
      "image/png": "[encoded data removed]",
      "text/plain": [
       "<Figure size 432x288 with 1 Axes>"
      ]
     },
     "metadata": {
      "needs_background": "light"
     },
     "output_type": "display_data"
    }
   ],
   "source": [
    "###make plot\n",
    "xvalues = []\n",
    "for i in range(len(logdil)):\n",
    "    extra = [logdil[i]] * replicates\n",
    "    xvalues.extend(extra)\n",
    "for i in range(len(sample_y)):\n",
    "    plt.scatter(xvalues, sample_y[i])\n",
    "    plt.xlim(2, 5.4)\n",
    "    plt.ylim(0, 100)\n",
    "print(\"IC50 values: \", l_IC50)\n",
    "print(\"Hill Slopes: \", l_Hill)\n",
    "line_x = np.linspace(2,5.6,100)\n",
    "for nr in range(3):\n",
    "    ys = neutr_curve(line_x, l_IC50[nr], l_Hill[nr])\n",
    "    plt.plot(line_x, ys)\n",
    "plt.axhline(0, color='black')"
   ]
  },
  {
   "cell_type": "code",
   "execution_count": 6,
   "metadata": {},
   "outputs": [],
   "source": [
    "###write y_measured to csv\n",
    "##Make dataframe from lists\n",
    "#reorder dataframe\n",
    "rlu1 = pd.DataFrame([])\n",
    "rlu2 = pd.DataFrame([])\n",
    "rlu3 = pd.DataFrame([])\n",
    "ordered = [rlu1, rlu2, rlu3]\n",
    "\n",
    "for nr in range(3):\n",
    "    ordered[nr] = [[],[],[]]\n",
    "    for r in sample_y[nr]:\n",
    "        one = r[0]\n",
    "        two = r[1]\n",
    "        three = r[2]\n",
    "        ordered[nr][0].append(one)\n",
    "        ordered[nr][1].append(two)\n",
    "        ordered[nr][2].append(three)\n",
    "\n",
    "for t in range(3):\n",
    "    for h in ordered[t]:\n",
    "        h.append( 100)\n",
    "        h.append( 0)\n",
    "\n",
    "csvlog = np.append(logdil,[\"min\",\"max\"])\n",
    "\n",
    "dicto = {\"log(dil)\": csvlog, \"Sample 1a\": ordered[0][0], \"Sample 1b\": ordered[0][1], \"Sample 1c\": ordered[0][2], \"Sample 2a\": ordered[1][0],\"Sample 2b\": ordered[1][1], \"Sample 2c\": ordered[1][2],\"Sample 3a\": ordered[2][0],\"Sample 3b\": ordered[2][1],\"Sample 3c\": ordered[2][2]}\n",
    "df = pd.DataFrame(dicto)\n"
   ]
  },
  {
   "cell_type": "code",
   "execution_count": 7,
   "metadata": {},
   "outputs": [],
   "source": [
    "df.to_csv(\"Newvalues.csv\", \";\", decimal = \",\", index= False)"
   ]
  }
 ],
 "metadata": {
  "interpreter": {
   "hash": "11938c6bc6919ae2720b4d5011047913343b08a43b18698fd82dedb0d4417594"
  },
  "kernelspec": {
   "display_name": "Python 3.9.1 64-bit",
   "language": "python",
   "name": "python3"
  },
  "language_info": {
   "codemirror_mode": {
    "name": "ipython",
    "version": 3
   },
   "file_extension": ".py",
   "mimetype": "text/x-python",
   "name": "python",
   "nbconvert_exporter": "python",
   "pygments_lexer": "ipython3",
   "version": "3.9.1"
  },
  "orig_nbformat": 4
 },
 "nbformat": 4,
 "nbformat_minor": 2
}
