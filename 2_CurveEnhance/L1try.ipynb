{
 "cells": [
  {
   "cell_type": "code",
   "execution_count": 1,
   "metadata": {},
   "outputs": [],
   "source": [
    "import numpy as np\n",
    "import matplotlib.pyplot as plt\n",
    "from scipy.optimize import curve_fit\n",
    "import pandas as pd\n",
    "import math\n",
    "from sklearn.metrics import r2_score\n",
    "from re import S\n",
    "from pandas.core.frame import DataFrame\n",
    "from scipy.stats import shapiro, cauchy, t\n",
    "from mpl_toolkits.mplot3d import Axes3D\n",
    "import statsmodels.api as sm\n",
    "from statsmodels.stats.outliers_influence import summary_table\n"
   ]
  },
  {
   "cell_type": "code",
   "execution_count": 2,
   "metadata": {},
   "outputs": [],
   "source": [
    "###read CSV file\n",
    "csvdata = pd.read_csv(\"../Z_Data/CSVread3.csv\", sep = \";\", decimal=\",\")\n"
   ]
  },
  {
   "cell_type": "code",
   "execution_count": 3,
   "metadata": {},
   "outputs": [],
   "source": [
    "###Set log(DilutionF) as index\n",
    "logspre = csvdata[\"log(dil)\"].values.tolist()\n",
    "logspre.remove(\"min\")\n",
    "logspre.remove(\"max\")\n",
    "logs = []\n",
    "for i in logspre:\n",
    "    k = i.replace(\",\",\".\")\n",
    "    k = float(k)\n",
    "    logs.append(k)\n",
    "\n",
    "alldata = csvdata.set_index(\"log(dil)\")\n",
    "alldata.index.names = [None]"
   ]
  },
  {
   "cell_type": "code",
   "execution_count": 4,
   "metadata": {},
   "outputs": [],
   "source": [
    "###Make Subsets of data\n",
    "#generate list of names:\n",
    "rep = int(len(alldata.columns)/3)\n",
    "dataNames = []\n",
    "for i in range(rep):\n",
    "    naam = \"sample_\" + str(i+1)\n",
    "    dataNames.append(naam)\n",
    "\n",
    "#Add Dataframe to name in dictionary\n",
    "tel = 0\n",
    "frames = []\n",
    "for k in range(rep):\n",
    "    frame = alldata.iloc[:,[tel, tel+1, tel+2]]\n",
    "    tel = tel+3\n",
    "    frames.append(frame)\n",
    "\n",
    "joined = dict(zip(dataNames, frames))\n"
   ]
  },
  {
   "cell_type": "code",
   "execution_count": 5,
   "metadata": {},
   "outputs": [],
   "source": [
    "#IC50 curve, initial\n",
    "def IC50(logs, dict):\n",
    "    identity = []\n",
    "    IC50 = []\n",
    "    oldic50 = []\n",
    "    hill = []\n",
    "    oldhill = []\n",
    "    for names, frame in dict.items():\n",
    "        identity.append(names)\n",
    "\n",
    "        mins = frame.loc[\"min\"][0]\n",
    "        maxs = frame.loc[\"max\"][0]\n",
    "        dataOnly = frame.drop([\"min\",\"max\"])\n",
    "\n",
    "        ###Convert 8x4 dataframe to 24x2\n",
    "        xvalues = []\n",
    "        for i in range(len(logs)):\n",
    "            extra = [logs[i]] * 3\n",
    "            xvalues.extend(extra)\n",
    "        lijstdat = dataOnly.stack().tolist()\n",
    "        lijstdata = [100*(1-(m - mins) / ( maxs - mins )) for m in lijstdat]\n",
    "        \n",
    "        ###Limit values to 0-100 range\n",
    "        #for i in range(len(lijstdata)):\n",
    "        #    if lijstdata[i]<0:\n",
    "        #        lijstdata[i] = 0\n",
    "        #    elif lijstdata[i]>100:\n",
    "        #        lijstdata[i] = 100\n",
    "\n",
    "        def logistic_curve(logx, prm):\n",
    "            return 100 / (1 + 10**((prm[0]-np.asarray(logx))*prm[1]))\n",
    "            # return ((-100) / (1 + ((np.asarray(logx)/logIC50)**Hill))) + 100\n",
    "\n",
    "        def residuals(param, xs, ys):\n",
    "            return (100 / (1 + 10**((param[0]-np.asarray(xs))*param[1])))-ys\n",
    "                \n",
    "        param0 = [3, -1]\n",
    "        line = np.arange(0, 8, 0.1)\n",
    "\n",
    "        ##Apply soft L1-loss: combinatiion of L1 and L2 loss.\n",
    "        from scipy.optimize import least_squares\n",
    "        res_lsq = least_squares(residuals, param0, args=(xvalues, lijstdata))\n",
    "        res_robust = least_squares(residuals, param0, loss='soft_l1', f_scale=5, args=(xvalues, lijstdata))\n",
    "\n",
    "        lsq_y = logistic_curve(line, res_lsq.x)\n",
    "        robust_y = logistic_curve(line, res_robust.x)\n",
    "        icso = 10**res_lsq.x[0]\n",
    "        ic50 = 10**res_robust.x[0]\n",
    "        #print(\"No L1-regularization; IC50: %.2f\" %icso, \"Hill Slope: %.2f\" %res_lsq.x[1])\n",
    "        #print(\"L1-Regularization; IC50: %.2f\" %ic50, \"Hill Slope: %.2f\" %res_robust.x[1])\n",
    "\n",
    "        #plt.plot(line, lsq_y , label = 'normal fit')\n",
    "        plt.plot(line, robust_y , label = 'normal fit', color='black')\n",
    "        ###restrict Hill Slope between 2 values\n",
    "        #if para[1]>-0.8:\n",
    "        #    para[1]=-0.8\n",
    "        #elif para[1]<-1.2:\n",
    "        #    para[1]=-1.2\n",
    "\n",
    "        ###Trying to get 95%CI\n",
    "\n",
    "        \n",
    "        ###Results info:\n",
    "        IC50.append(\"%.2f\" %ic50)\n",
    "        hill.append(\"%.2f\" %res_robust.x[1])\n",
    "        oldic50.append(\"%.2f\" %icso)\n",
    "        oldhill.append(\"%.2f\" %res_lsq.x[1])\n",
    "\n",
    "        ###residuals\n",
    "        #points = []\n",
    "        #TotalS = 0\n",
    "        #for o, l in zip(lijstdata, fit1):\n",
    "        #    points.append(o-l)\n",
    "        #    TotalS += np.abs((o-l))\n",
    "        #absE.append(TotalS)\n",
    "\n",
    "        ####plot fit curve\n",
    "        #plt.plot(line, fit2)\n",
    "        #plt.plot(line, fitNew, 'k')\n",
    "        plt.ylim(0, 100)\n",
    "        plt.xlabel(\"Log(Dilution Factor)\")\n",
    "        plt.ylabel(\"% Neutralization\")\n",
    "        plt.xlim(2, 5.6)\n",
    "        ### plot datapoints\n",
    "        plt.scatter(xvalues, lijstdata, label = 'data')\n",
    "\n",
    "        ###plot errors\n",
    "        #plt.scatter(xvalues, points)\n",
    "        #plt.axhline(y=0)\n",
    "        #plt.xlim(1.5, 5.1)\n",
    "        #plt.ylabel(\"Distance between data and curve\")\n",
    "        #plt.xlabel(\"Log(Dilution Factor)\")\n",
    "\n",
    "        #plt.scatter(para[0], 50, c='red', marker=\"X\")\n",
    "    results_dict = {\"Sample\":identity, \"IC50\":IC50, \"Old IC50\":oldic50, \"HillSlope\":hill, \"Old HillS\":oldhill}\n",
    "    df_results = pd.DataFrame(results_dict)\n",
    "    print(df_results)\n",
    "    df_results.to_csv(\"resultsL1Try.csv\", \",\", decimal = \",\")\n",
    "    plt.show()\n"
   ]
  },
  {
   "cell_type": "code",
   "execution_count": 6,
   "metadata": {},
   "outputs": [
    {
     "name": "stdout",
     "output_type": "stream",
     "text": [
      "     Sample     IC50 Old IC50 HillSlope Old HillS\n",
      "0  sample_1  8081.71  7389.63     -0.65     -0.62\n",
      "1  sample_2  2963.67  2621.38     -0.92     -0.85\n",
      "2  sample_3  6697.29  6066.68     -0.75     -0.73\n"
     ]
    },
    {
     "data": {
      "image/png": "[encoded data removed]",
      "text/plain": [
       "<Figure size 432x288 with 1 Axes>"
      ]
     },
     "metadata": {
      "needs_background": "light"
     },
     "output_type": "display_data"
    }
   ],
   "source": [
    "## Run function to calculate IC50\n",
    "IC50(logs,joined)\n"
   ]
  }
 ],
 "metadata": {
  "interpreter": {
   "hash": "11938c6bc6919ae2720b4d5011047913343b08a43b18698fd82dedb0d4417594"
  },
  "kernelspec": {
   "display_name": "Python 3.9.1 64-bit",
   "language": "python",
   "name": "python3"
  },
  "language_info": {
   "codemirror_mode": {
    "name": "ipython",
    "version": 3
   },
   "file_extension": ".py",
   "mimetype": "text/x-python",
   "name": "python",
   "nbconvert_exporter": "python",
   "pygments_lexer": "ipython3",
   "version": "3.9.1"
  },
  "orig_nbformat": 4
 },
 "nbformat": 4,
 "nbformat_minor": 2
}
